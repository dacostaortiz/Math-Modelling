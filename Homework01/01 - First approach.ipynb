{
 "cells": [
  {
   "cell_type": "markdown",
   "metadata": {
    "collapsed": true
   },
   "source": [
    "# Chapter 1 - Modelling & programming environments\n",
    "\n",
    "A mathematical model is a description of a system which uses abstractions and mathematical language. The development of of one of these is know as mathematical modelling.\n",
    "The mathematical models usally are made of relations and variables, such relations can be described by operators (algebraical and/or differential), functions, etc. The variables are abstractions of the studied system's parameters which can be quantified.\n",
    "\n",
    "## Homework 01 \n",
    "### First approach - Deal with data and model implementations\n",
    "\n",
    "Nowdays in almost every field of the human knowledge is necessary to deal with data. Use a programming language becomes an essential tool when we want to automatize the implementation of our models.\n",
    "\n",
    "1) implement a function to read data from a directory taking in count the file extention."
   ]
  },
  {
   "cell_type": "code",
   "execution_count": 2,
   "metadata": {
    "collapsed": true
   },
   "outputs": [],
   "source": [
    "import os\n",
    "import numpy as np \n",
    "path = \"/data/\"\n",
    "\n",
    "def read_dir(path, ext):\n",
    "    l = []\n",
    "    for f in os.listdir(os.getcwd()+path):\n",
    "        if f.endswith(ext):\n",
    "            r = open(os.getcwd()+path+f).read()\n",
    "            r = np.array(r[:-1].split())\n",
    "            l.append({f:r})\n",
    "    return l"
   ]
  },
  {
   "cell_type": "markdown",
   "metadata": {
    "collapsed": false
   },
   "source": [
    "2) Use the funtion to load the data on memory"
   ]
  },
  {
   "cell_type": "code",
   "execution_count": 9,
   "metadata": {
    "collapsed": false
   },
   "outputs": [],
   "source": [
    "input_data = read_dir(path,'.in') \n",
    "ans_data = read_dir(path,'.ans')"
   ]
  },
  {
   "cell_type": "markdown",
   "metadata": {},
   "source": [
    "3) Create a set of functions that implements a model to treat our data."
   ]
  },
  {
   "cell_type": "code",
   "execution_count": 10,
   "metadata": {
    "collapsed": false
   },
   "outputs": [],
   "source": [
    "def price(l):\n",
    "    p = int(l[0])\n",
    "    a = int(l[1])\n",
    "    b = int(l[2])\n",
    "    c = int(l[3])\n",
    "    d = int(l[4])\n",
    "    n = int(l[5])\n",
    "    P = []\n",
    "    for k in range(int(n)):\n",
    "        P.append(p*(np.sin(a*(k+1)+b)+np.cos(c*(k+1)+d)+2))\n",
    "    return P"
   ]
  },
  {
   "cell_type": "code",
   "execution_count": 11,
   "metadata": {
    "collapsed": true
   },
   "outputs": [],
   "source": [
    "def max_decline(prices):\n",
    "    max_dif = 0.0\n",
    "    dif = max(prices)-min(prices)\n",
    "    if dif >  0.0:\n",
    "        max_dif = dif\n",
    "    return max_dif"
   ]
  },
  {
   "cell_type": "code",
   "execution_count": 12,
   "metadata": {
    "collapsed": false
   },
   "outputs": [],
   "source": [
    "def max_dec_list(data):\n",
    "    declines = []\n",
    "    for d in data:\n",
    "        key = d.keys()[0]\n",
    "        value = d.values()[0]\n",
    "        stock_prices = price(value)\n",
    "        declines.append({key:[max_decline(stock_prices)]})\n",
    "    return declines\n",
    "comp_data = max_dec_list(input_data)"
   ]
  },
  {
   "cell_type": "markdown",
   "metadata": {},
   "source": [
    "4) Compute the error between the computed data and the teorical."
   ]
  },
  {
   "cell_type": "code",
   "execution_count": 19,
   "metadata": {
    "collapsed": false
   },
   "outputs": [
    {
     "name": "stdout",
     "output_type": "stream",
     "text": [
      "13.ans 13.in\n",
      "error in file 13 is  0.008911\n",
      "03.ans 03.in\n",
      "error in file 03 is  0.000000\n",
      "04.ans 04.in\n",
      "error in file 04 is  0.000000\n",
      "05.ans 05.in\n",
      "error in file 05 is  0.000000\n",
      "06.ans 06.in\n",
      "error in file 06 is  76.507643\n",
      "07.ans 07.in\n",
      "error in file 07 is  0.015731\n",
      "08.ans 08.in\n",
      "error in file 08 is  0.004480\n",
      "09.ans 09.in\n",
      "error in file 09 is  0.000892\n",
      "10.ans 10.in\n",
      "error in file 10 is  0.000000\n",
      "11.ans 11.in\n",
      "error in file 11 is  0.000000\n",
      "12.ans 12.in\n",
      "error in file 12 is  0.000000\n",
      "14.ans 14.in\n",
      "error in file 14 is  0.000000\n",
      "15.ans 15.in\n",
      "error in file 15 is  0.000000\n",
      "16.ans 16.in\n",
      "error in file 16 is  63.880478\n",
      "17.ans 17.in\n",
      "error in file 17 is  0.000000\n",
      "18.ans 18.in\n",
      "error in file 18 is  0.000000\n",
      "19.ans 19.in\n",
      "error in file 19 is  0.000000\n",
      "20.ans 20.in\n",
      "error in file 20 is  0.000000\n",
      "21.ans 21.in\n",
      "error in file 21 is  0.000000\n",
      "22.ans 22.in\n",
      "error in file 22 is  0.000204\n",
      "23.ans 23.in\n",
      "error in file 23 is  0.000010\n",
      "24.ans 24.in\n",
      "error in file 24 is  0.001627\n",
      "25.ans 25.in\n",
      "error in file 25 is  0.000539\n",
      "26.ans 26.in\n",
      "error in file 26 is  0.000000\n",
      "27.ans 27.in\n",
      "error in file 27 is  0.000000\n",
      "28.ans 28.in\n",
      "error in file 28 is  0.000000\n",
      "29.ans 29.in\n",
      "error in file 29 is  0.000000\n",
      "30.ans 30.in\n",
      "error in file 30 is  0.004518\n",
      "31.ans 31.in\n",
      "error in file 31 is  0.001085\n",
      "32.ans 32.in\n",
      "error in file 32 is  0.000000\n",
      "33.ans 33.in\n",
      "error in file 33 is  0.000000\n",
      "34.ans 34.in\n",
      "error in file 34 is  0.000646\n",
      "35.ans 35.in\n",
      "error in file 35 is  0.000000\n"
     ]
    }
   ],
   "source": [
    "for l1 in ans_data:\n",
    "    for l2 in comp_data:\n",
    "        if l1.keys()[0][0:2] == l2.keys()[0][0:2]:\n",
    "            print l1.keys()[0], l2.keys()[0]\n",
    "            print 'error in file', l1.keys()[0][0:2], 'is ', '%.6f' % abs(float(l1.get(l1.keys()[0])[0])- float(l2.get(l2.keys()[0])[0]))"
   ]
  },
  {
   "cell_type": "code",
   "execution_count": null,
   "metadata": {
    "collapsed": false
   },
   "outputs": [],
   "source": []
  }
 ],
 "metadata": {
  "kernelspec": {
   "display_name": "Python 2",
   "language": "python2",
   "name": "python2"
  },
  "language_info": {
   "codemirror_mode": {
    "name": "ipython",
    "version": 2
   },
   "file_extension": ".py",
   "mimetype": "text/x-python",
   "name": "python",
   "nbconvert_exporter": "python",
   "pygments_lexer": "ipython2",
   "version": "2.7.13"
  }
 },
 "nbformat": 4,
 "nbformat_minor": 2
}
