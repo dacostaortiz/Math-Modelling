{
 "cells": [
  {
   "cell_type": "markdown",
   "metadata": {
    "collapsed": true
   },
   "source": [
    "### Homework 01\n",
    "#### Read data from plain text file\n",
    "\n",
    "Nowdays in almost every field of the human knowledge is necessary to deal with data. Use a programming language becomes an essential tool."
   ]
  },
  {
   "cell_type": "code",
   "execution_count": 121,
   "metadata": {
    "collapsed": true
   },
   "outputs": [],
   "source": [
    "import os\n",
    "import numpy as np \n",
    "path = \"/data/\""
   ]
  },
  {
   "cell_type": "code",
   "execution_count": 70,
   "metadata": {
    "collapsed": false
   },
   "outputs": [],
   "source": [
    "def read_dir(path, ext):\n",
    "    l = []\n",
    "    for f in os.listdir(os.getcwd()+path):\n",
    "        if f.endswith(ext):\n",
    "            r = open(os.getcwd()+path+f).read()\n",
    "            r = np.array(r[:-1].split())\n",
    "            l.append({f:r})\n",
    "    return l"
   ]
  },
  {
   "cell_type": "code",
   "execution_count": 71,
   "metadata": {
    "collapsed": false
   },
   "outputs": [],
   "source": [
    "input_data = read_dir(path,'.in') \n",
    "ans_data = read_dir(path,'.ans')"
   ]
  },
  {
   "cell_type": "code",
   "execution_count": 73,
   "metadata": {
    "collapsed": false
   },
   "outputs": [],
   "source": [
    "def price(l):\n",
    "    p = int(l[0])\n",
    "    a = int(l[1])\n",
    "    b = int(l[2])\n",
    "    c = int(l[3])\n",
    "    d = int(l[4])\n",
    "    n = int(l[5])\n",
    "    P = []\n",
    "    for k in range(int(n)):\n",
    "        P.append(p*(np.sin(a*(k+1)+b)+np.cos(c*(k+1)+d)+2))\n",
    "    return P"
   ]
  },
  {
   "cell_type": "code",
   "execution_count": 80,
   "metadata": {
    "collapsed": true
   },
   "outputs": [],
   "source": [
    "def max_decline(prices):\n",
    "    max_dif = 0.0\n",
    "    dif = max(prices)-min(prices)\n",
    "    if dif >  0.0:\n",
    "        max_dif = dif\n",
    "    return max_dif"
   ]
  },
  {
   "cell_type": "code",
   "execution_count": 86,
   "metadata": {
    "collapsed": false
   },
   "outputs": [],
   "source": [
    "def max_dec_list(data):\n",
    "    declines = []\n",
    "    for d in data:\n",
    "        key = d.keys()[0]\n",
    "        value = d.values()[0]\n",
    "        stock_prices = price(value)\n",
    "        declines.append({key:[max_decline(stock_prices)]})\n",
    "    return declines\n",
    "comp_data = max_dec_list(input_data)"
   ]
  },
  {
   "cell_type": "code",
   "execution_count": 123,
   "metadata": {
    "collapsed": false
   },
   "outputs": [
    {
     "name": "stdout",
     "output_type": "stream",
     "text": [
      "error in file 13 is  0.008911\n",
      "error in file 03 is  0.000000\n",
      "error in file 04 is  0.000000\n",
      "error in file 05 is  0.000000\n",
      "error in file 06 is  76.507643\n",
      "error in file 07 is  0.015731\n",
      "error in file 08 is  0.004480\n",
      "error in file 09 is  0.000892\n",
      "error in file 10 is  0.000000\n",
      "error in file 11 is  0.000000\n",
      "error in file 12 is  0.000000\n",
      "error in file 14 is  0.000000\n",
      "error in file 15 is  0.000000\n",
      "error in file 16 is  63.880478\n",
      "error in file 17 is  0.000000\n",
      "error in file 18 is  0.000000\n",
      "error in file 19 is  0.000000\n",
      "error in file 20 is  0.000000\n",
      "error in file 21 is  0.000000\n",
      "error in file 22 is  0.000204\n",
      "error in file 23 is  0.000010\n",
      "error in file 24 is  0.001627\n",
      "error in file 25 is  0.000539\n",
      "error in file 26 is  0.000000\n",
      "error in file 27 is  0.000000\n",
      "error in file 28 is  0.000000\n",
      "error in file 29 is  0.000000\n",
      "error in file 30 is  0.004518\n",
      "error in file 31 is  0.001085\n",
      "error in file 32 is  0.000000\n",
      "error in file 33 is  0.000000\n",
      "error in file 34 is  0.000646\n",
      "error in file 35 is  0.000000\n"
     ]
    }
   ],
   "source": [
    "for l1 in ans_data:\n",
    "    for l2 in comp_data:\n",
    "        if l1.keys()[0][0:2] == l2.keys()[0][0:2]:\n",
    "            #print l1.keys()[0], l2.keys()[0]\n",
    "            print 'error in file', l1.keys()[0][0:2], 'is ', '%f' % abs(float(l1.get(l1.keys()[0])[0])- float(l2.get(l2.keys()[0])[0]))"
   ]
  },
  {
   "cell_type": "code",
   "execution_count": null,
   "metadata": {
    "collapsed": false
   },
   "outputs": [],
   "source": []
  }
 ],
 "metadata": {
  "kernelspec": {
   "display_name": "Python 2",
   "language": "python2",
   "name": "python2"
  },
  "language_info": {
   "codemirror_mode": {
    "name": "ipython",
    "version": 2
   },
   "file_extension": ".py",
   "mimetype": "text/x-python",
   "name": "python",
   "nbconvert_exporter": "python",
   "pygments_lexer": "ipython2",
   "version": "2.7.13"
  }
 },
 "nbformat": 4,
 "nbformat_minor": 2
}
